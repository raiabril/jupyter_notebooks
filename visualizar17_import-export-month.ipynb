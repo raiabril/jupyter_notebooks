{
 "cells": [
  {
   "cell_type": "code",
   "execution_count": 1,
   "metadata": {
    "collapsed": true
   },
   "outputs": [],
   "source": [
    "import matplotlib.pyplot as plt\n",
    "import matplotlib\n",
    "import os\n",
    "import pandas as pd\n",
    "import numpy as np\n",
    "%matplotlib inline\n",
    "matplotlib.style.use('ggplot')\n",
    "import datetime\n",
    "import locale\n",
    "import time\n",
    "locale.setlocale(locale.LC_TIME, 'es_ES.UTF-8')\n",
    "import glob"
   ]
  },
  {
   "cell_type": "code",
   "execution_count": 2,
   "metadata": {
    "collapsed": true
   },
   "outputs": [],
   "source": [
    "product = 'acelga/'\n",
    "pro = 'production/'\n",
    "imp = 'import/'\n",
    "pwd = '/Volumes/Macintosh HD/_GitHub/journey-of-food/data/producto/'\n",
    "aux = '/Volumes/Macintosh HD/_GitHub/journey-of-food/data/aux/'\n",
    "dwd = '/Volumes/Macintosh HD/_GitHub/journey-of-food/data/source/'"
   ]
  },
  {
   "cell_type": "code",
   "execution_count": 3,
   "metadata": {},
   "outputs": [
    {
     "data": {
      "text/plain": [
       "['FH_EPRODMESK.xlsx',\n",
       " 'FH_EPRODPAISK.xlsx',\n",
       " 'FH_EPROVPRODK.xlsx',\n",
       " 'FH_IPRODMESK.xlsx',\n",
       " 'FH_IPRODPAIK.xlsx',\n",
       " 'import_2015.csv',\n",
       " '~$FH_IPRODPAIK.xlsx']"
      ]
     },
     "execution_count": 3,
     "metadata": {},
     "output_type": "execute_result"
    }
   ],
   "source": [
    "os.chdir(dwd)\n",
    "files = os.listdir(dwd)\n",
    "files"
   ]
  },
  {
   "cell_type": "code",
   "execution_count": 4,
   "metadata": {
    "collapsed": true
   },
   "outputs": [],
   "source": [
    "dataImp = pd.read_excel('FH_IPRODMESK.xlsx', sheetname='2015', encoding ='utf-8',index_col=0)\n",
    "dataImp.fillna(0,inplace=True)"
   ]
  },
  {
   "cell_type": "code",
   "execution_count": 5,
   "metadata": {
    "collapsed": true
   },
   "outputs": [],
   "source": [
    "dataImp.drop('Total',axis=1,inplace=True)"
   ]
  },
  {
   "cell_type": "code",
   "execution_count": 6,
   "metadata": {},
   "outputs": [
    {
     "data": {
      "text/html": [
       "<div>\n",
       "<style>\n",
       "    .dataframe thead tr:only-child th {\n",
       "        text-align: right;\n",
       "    }\n",
       "\n",
       "    .dataframe thead th {\n",
       "        text-align: left;\n",
       "    }\n",
       "\n",
       "    .dataframe tbody tr th {\n",
       "        vertical-align: top;\n",
       "    }\n",
       "</style>\n",
       "<table border=\"1\" class=\"dataframe\">\n",
       "  <thead>\n",
       "    <tr style=\"text-align: right;\">\n",
       "      <th></th>\n",
       "      <th>Enero</th>\n",
       "      <th>Febrero</th>\n",
       "      <th>Marzo</th>\n",
       "      <th>Abril</th>\n",
       "      <th>Mayo</th>\n",
       "      <th>Junio</th>\n",
       "      <th>Julio</th>\n",
       "      <th>Agosto</th>\n",
       "      <th>Septiembre</th>\n",
       "      <th>Octubre</th>\n",
       "      <th>Noviembre</th>\n",
       "      <th>Diciembre</th>\n",
       "    </tr>\n",
       "  </thead>\n",
       "  <tbody>\n",
       "    <tr>\n",
       "      <th>ACELGA</th>\n",
       "      <td>4</td>\n",
       "      <td>6</td>\n",
       "      <td>29</td>\n",
       "      <td>27</td>\n",
       "      <td>98</td>\n",
       "      <td>26</td>\n",
       "      <td>4</td>\n",
       "      <td>5</td>\n",
       "      <td>5</td>\n",
       "      <td>14</td>\n",
       "      <td>6</td>\n",
       "      <td>26</td>\n",
       "    </tr>\n",
       "    <tr>\n",
       "      <th>AJO</th>\n",
       "      <td>93</td>\n",
       "      <td>429</td>\n",
       "      <td>329</td>\n",
       "      <td>409</td>\n",
       "      <td>267</td>\n",
       "      <td>286</td>\n",
       "      <td>352</td>\n",
       "      <td>871</td>\n",
       "      <td>1201</td>\n",
       "      <td>399</td>\n",
       "      <td>321</td>\n",
       "      <td>449</td>\n",
       "    </tr>\n",
       "    <tr>\n",
       "      <th>ALCACHOFA</th>\n",
       "      <td>11</td>\n",
       "      <td>10</td>\n",
       "      <td>12</td>\n",
       "      <td>38</td>\n",
       "      <td>9</td>\n",
       "      <td>7</td>\n",
       "      <td>5</td>\n",
       "      <td>4</td>\n",
       "      <td>14</td>\n",
       "      <td>5</td>\n",
       "      <td>5</td>\n",
       "      <td>16</td>\n",
       "    </tr>\n",
       "    <tr>\n",
       "      <th>APIO</th>\n",
       "      <td>49</td>\n",
       "      <td>5</td>\n",
       "      <td>6</td>\n",
       "      <td>18</td>\n",
       "      <td>3</td>\n",
       "      <td>16</td>\n",
       "      <td>57</td>\n",
       "      <td>10</td>\n",
       "      <td>82</td>\n",
       "      <td>70</td>\n",
       "      <td>87</td>\n",
       "      <td>49</td>\n",
       "    </tr>\n",
       "    <tr>\n",
       "      <th>BERENJENA</th>\n",
       "      <td>303</td>\n",
       "      <td>118</td>\n",
       "      <td>69</td>\n",
       "      <td>65</td>\n",
       "      <td>59</td>\n",
       "      <td>73</td>\n",
       "      <td>71</td>\n",
       "      <td>106</td>\n",
       "      <td>220</td>\n",
       "      <td>78</td>\n",
       "      <td>46</td>\n",
       "      <td>143</td>\n",
       "    </tr>\n",
       "  </tbody>\n",
       "</table>\n",
       "</div>"
      ],
      "text/plain": [
       "           Enero  Febrero  Marzo  Abril  Mayo  Junio  Julio  Agosto  \\\n",
       "ACELGA         4        6     29     27    98     26      4       5   \n",
       "AJO           93      429    329    409   267    286    352     871   \n",
       "ALCACHOFA     11       10     12     38     9      7      5       4   \n",
       "APIO          49        5      6     18     3     16     57      10   \n",
       "BERENJENA    303      118     69     65    59     73     71     106   \n",
       "\n",
       "           Septiembre  Octubre  Noviembre  Diciembre  \n",
       "ACELGA              5       14          6         26  \n",
       "AJO              1201      399        321        449  \n",
       "ALCACHOFA          14        5          5         16  \n",
       "APIO               82       70         87         49  \n",
       "BERENJENA         220       78         46        143  "
      ]
     },
     "execution_count": 6,
     "metadata": {},
     "output_type": "execute_result"
    }
   ],
   "source": [
    "dataImp.head()"
   ]
  },
  {
   "cell_type": "code",
   "execution_count": 7,
   "metadata": {
    "collapsed": true
   },
   "outputs": [],
   "source": [
    "dataImp = dataImp.loc[pd.notnull(dataImp.index)]"
   ]
  },
  {
   "cell_type": "code",
   "execution_count": 8,
   "metadata": {
    "collapsed": true
   },
   "outputs": [],
   "source": [
    "dataImp.index = [x.lower() for x in dataImp.index.values.tolist()]"
   ]
  },
  {
   "cell_type": "code",
   "execution_count": 9,
   "metadata": {},
   "outputs": [
    {
     "data": {
      "text/plain": [
       "acelga    250\n",
       "dtype: int64"
      ]
     },
     "execution_count": 9,
     "metadata": {},
     "output_type": "execute_result"
    }
   ],
   "source": [
    "dataImp.loc[dataImp.index=='acelga'].transpose().sort_values('acelga',ascending=False).sum()"
   ]
  },
  {
   "cell_type": "code",
   "execution_count": null,
   "metadata": {
    "collapsed": true
   },
   "outputs": [],
   "source": []
  },
  {
   "cell_type": "code",
   "execution_count": null,
   "metadata": {
    "collapsed": true
   },
   "outputs": [],
   "source": []
  },
  {
   "cell_type": "code",
   "execution_count": 10,
   "metadata": {
    "collapsed": true
   },
   "outputs": [],
   "source": [
    "product = 'acelga/'\n",
    "pro = 'production/'\n",
    "imp = 'import/'\n",
    "exp = 'export/'\n",
    "pwd = '/Volumes/Macintosh HD/_GitHub/journey-of-food/data/producto/'\n",
    "aux = '/Volumes/Macintosh HD/_GitHub/journey-of-food/data/aux/'\n",
    "dwd = '/Volumes/Macintosh HD/_GitHub/journey-of-food/data/source/'"
   ]
  },
  {
   "cell_type": "code",
   "execution_count": 11,
   "metadata": {},
   "outputs": [
    {
     "data": {
      "text/plain": [
       "['FH_EPRODMESK.xlsx',\n",
       " 'FH_EPRODPAISK.xlsx',\n",
       " 'FH_EPROVPRODK.xlsx',\n",
       " 'FH_IPRODMESK.xlsx',\n",
       " 'FH_IPRODPAIK.xlsx',\n",
       " 'import_2015.csv',\n",
       " '~$FH_IPRODPAIK.xlsx']"
      ]
     },
     "execution_count": 11,
     "metadata": {},
     "output_type": "execute_result"
    }
   ],
   "source": [
    "os.chdir(dwd)\n",
    "files = os.listdir(dwd)\n",
    "files"
   ]
  },
  {
   "cell_type": "code",
   "execution_count": 12,
   "metadata": {
    "collapsed": true
   },
   "outputs": [],
   "source": [
    "dataExp = pd.read_excel(files[0], sheetname='2015', encoding ='utf-8',index_col=0,na_values='x')\n",
    "dataExp.fillna(0,inplace=True)"
   ]
  },
  {
   "cell_type": "code",
   "execution_count": 13,
   "metadata": {
    "collapsed": true
   },
   "outputs": [],
   "source": [
    "dataExp.drop('Total',axis = 1, inplace=True)"
   ]
  },
  {
   "cell_type": "code",
   "execution_count": 14,
   "metadata": {
    "collapsed": true
   },
   "outputs": [],
   "source": [
    "dataExp = dataExp.loc[pd.notnull(dataExp.index)]"
   ]
  },
  {
   "cell_type": "code",
   "execution_count": 15,
   "metadata": {
    "collapsed": true
   },
   "outputs": [],
   "source": [
    "dataExp.index = [x.lower() for x in dataExp.index.values.tolist()]"
   ]
  },
  {
   "cell_type": "code",
   "execution_count": 16,
   "metadata": {},
   "outputs": [
    {
     "data": {
      "text/plain": [
       "49"
      ]
     },
     "execution_count": 16,
     "metadata": {},
     "output_type": "execute_result"
    }
   ],
   "source": [
    "len(dataImp)"
   ]
  },
  {
   "cell_type": "code",
   "execution_count": 67,
   "metadata": {},
   "outputs": [],
   "source": [
    "for producto in dataImp.index.values:\n",
    "    locale.setlocale(locale.LC_TIME, 'es_ES.UTF-8')\n",
    "    datosImp = dataImp.loc[dataImp.index==producto]\n",
    "    datosExp = dataExp.loc[dataImp.index==producto]\n",
    "    datos = pd.concat([datosImp, datosExp])\n",
    "    datos.index = ['Importado','Exportado']\n",
    "    datos.columns=['01-Ene-2015','01-Feb-2015','01-Mar-2015','01-Abr-2015','01-May-2015','01-Jun-2015','01-Jul-2015','01-Ago-2015','01-Sep-2015','01-Oct-2015','01-Nov-2015','01-Dic-2015']\n",
    "    datos = datos.transpose()\n",
    "    datos.index.name = 'Mes' \n",
    "    try:\n",
    "        datos.to_csv(pwd+producto+'/'+producto+'_import_export_mes.csv')\n",
    "    except:\n",
    "        datos.to_csv(pwd+producto+'_import_export_mes.csv')"
   ]
  },
  {
   "cell_type": "code",
   "execution_count": 65,
   "metadata": {},
   "outputs": [
    {
     "data": {
      "text/plain": [
       "Index(['01-Ene-2015', '01-Feb-2015', '01-Mar-2015', '01-Abr-2015',\n",
       "       '01-May-2015', '01-Jun-2015', '01-Jul-2015', '01-Ago-2015',\n",
       "       '01-Sep-2015', '01-Oct-2015', '01-Nov-2015', '01-Dic-2015'],\n",
       "      dtype='object', name='Mes')"
      ]
     },
     "execution_count": 65,
     "metadata": {},
     "output_type": "execute_result"
    }
   ],
   "source": [
    "datos.index"
   ]
  },
  {
   "cell_type": "code",
   "execution_count": null,
   "metadata": {
    "collapsed": true
   },
   "outputs": [],
   "source": []
  }
 ],
 "metadata": {
  "kernelspec": {
   "display_name": "Python [conda root]",
   "language": "python",
   "name": "conda-root-py"
  },
  "language_info": {
   "codemirror_mode": {
    "name": "ipython",
    "version": 3
   },
   "file_extension": ".py",
   "mimetype": "text/x-python",
   "name": "python",
   "nbconvert_exporter": "python",
   "pygments_lexer": "ipython3",
   "version": "3.5.3"
  }
 },
 "nbformat": 4,
 "nbformat_minor": 2
}
