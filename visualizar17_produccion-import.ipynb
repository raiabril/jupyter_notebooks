{
 "cells": [
  {
   "cell_type": "code",
   "execution_count": 151,
   "metadata": {
    "collapsed": true
   },
   "outputs": [],
   "source": [
    "import matplotlib.pyplot as plt\n",
    "import matplotlib\n",
    "import os\n",
    "import pandas as pd\n",
    "import numpy as np\n",
    "%matplotlib inline\n",
    "matplotlib.style.use('ggplot')\n",
    "import datetime\n",
    "import locale\n",
    "import time\n",
    "locale.setlocale(locale.LC_TIME, 'es_ES.UTF-8')\n",
    "import glob\n",
    "\n",
    "import ipywidgets\n",
    "from IPython.display import display"
   ]
  },
  {
   "cell_type": "code",
   "execution_count": 152,
   "metadata": {
    "collapsed": true
   },
   "outputs": [],
   "source": [
    "product = 'acelga/'\n",
    "pro = 'production/'\n",
    "imp = 'import/'\n",
    "pwd = '/Volumes/Macintosh HD/_GitHub/journey-of-food/data/producto/'\n",
    "aux = '/Volumes/Macintosh HD/_GitHub/journey-of-food/data/aux/'\n",
    "dwd = '/Volumes/Macintosh HD/_GitHub/journey-of-food/data/source/'"
   ]
  },
  {
   "cell_type": "code",
   "execution_count": 153,
   "metadata": {
    "collapsed": true
   },
   "outputs": [],
   "source": [
    "tipos = os.listdir(pwd)[1:]"
   ]
  },
  {
   "cell_type": "code",
   "execution_count": 305,
   "metadata": {},
   "outputs": [
    {
     "data": {
      "application/vnd.jupyter.widget-view+json": {
       "model_id": "1e3c1f8b4b5e49fbbd95f7d1df7cbbe4",
       "version_major": 2,
       "version_minor": 0
      },
      "text/plain": [
       "A Jupyter Widget"
      ]
     },
     "metadata": {},
     "output_type": "display_data"
    },
    {
     "name": "stdout",
     "output_type": "stream",
     "text": [
      "changed to apio\n",
      "changed to arandano\n",
      "changed to batata\n",
      "changed to berenjena\n",
      "changed to brocoli\n",
      "changed to calabacin\n",
      "changed to cebolla\n",
      "changed to zanahoria\n",
      "changed to platano\n",
      "changed to pimiento\n",
      "changed to manzana\n",
      "changed to patata\n",
      "changed to melon\n",
      "changed to lechuga\n",
      "changed to limon\n",
      "changed to frambuesa\n",
      "changed to nectarina\n",
      "changed to naranja\n",
      "changed to puerro\n",
      "changed to kiwi\n",
      "changed to apio\n",
      "changed to cereza\n",
      "changed to espinaca\n"
     ]
    }
   ],
   "source": [
    "dropdown = ipywidgets.Dropdown(\n",
    "    options = tipos,\n",
    "    value = 'ajo')\n",
    "display(dropdown)\n",
    "\n",
    "def on_change(change):\n",
    "    if change['type'] == 'change' and change['name'] == 'value':\n",
    "        print(\"changed to %s\" % change['new'])\n",
    "dropdown.observe(on_change)"
   ]
  },
  {
   "cell_type": "code",
   "execution_count": 560,
   "metadata": {
    "collapsed": true
   },
   "outputs": [],
   "source": [
    "product = dropdown.value\n",
    "productPATH = product + '/'"
   ]
  },
  {
   "cell_type": "code",
   "execution_count": 561,
   "metadata": {},
   "outputs": [
    {
     "data": {
      "text/plain": [
       "['/Volumes/Macintosh HD/_GitHub/journey-of-food/data/producto/espinaca/production/grafico.csv',\n",
       " '/Volumes/Macintosh HD/_GitHub/journey-of-food/data/producto/espinaca/production/principal_provincia_peninsula.csv',\n",
       " '/Volumes/Macintosh HD/_GitHub/journey-of-food/data/producto/espinaca/production/production_ready_INE.csv',\n",
       " '/Volumes/Macintosh HD/_GitHub/journey-of-food/data/producto/espinaca/production/total.csv']"
      ]
     },
     "execution_count": 561,
     "metadata": {},
     "output_type": "execute_result"
    }
   ],
   "source": [
    "products = os.listdir(pwd)\n",
    "os.chdir(pwd+productPATH+tipo)\n",
    "files = glob.glob(pwd+productPATH+tipo+'*.csv')\n",
    "files"
   ]
  },
  {
   "cell_type": "code",
   "execution_count": 562,
   "metadata": {},
   "outputs": [],
   "source": [
    "data = pd.read_csv(files[-1], encoding ='utf-8',index_col=0)\n",
    "data.fillna(0,inplace=True)"
   ]
  },
  {
   "cell_type": "code",
   "execution_count": 563,
   "metadata": {},
   "outputs": [],
   "source": [
    "data.head(2)\n",
    "data.drop('INE',axis = 1, inplace=True)"
   ]
  },
  {
   "cell_type": "code",
   "execution_count": 564,
   "metadata": {},
   "outputs": [],
   "source": [
    "os.chdir('../import')"
   ]
  },
  {
   "cell_type": "code",
   "execution_count": 565,
   "metadata": {},
   "outputs": [
    {
     "data": {
      "text/plain": [
       "['espinaca.csv', 'espinaca_total.csv']"
      ]
     },
     "execution_count": 565,
     "metadata": {},
     "output_type": "execute_result"
    }
   ],
   "source": [
    "os.listdir()"
   ]
  },
  {
   "cell_type": "code",
   "execution_count": 566,
   "metadata": {},
   "outputs": [],
   "source": [
    "impor = pd.read_csv(product+'_total.csv', encoding ='utf-8')"
   ]
  },
  {
   "cell_type": "code",
   "execution_count": 567,
   "metadata": {},
   "outputs": [
    {
     "data": {
      "text/html": [
       "<div>\n",
       "<style>\n",
       "    .dataframe thead tr:only-child th {\n",
       "        text-align: right;\n",
       "    }\n",
       "\n",
       "    .dataframe thead th {\n",
       "        text-align: left;\n",
       "    }\n",
       "\n",
       "    .dataframe tbody tr th {\n",
       "        vertical-align: top;\n",
       "    }\n",
       "</style>\n",
       "<table border=\"1\" class=\"dataframe\">\n",
       "  <thead>\n",
       "    <tr style=\"text-align: right;\">\n",
       "      <th></th>\n",
       "      <th>Unnamed: 0</th>\n",
       "      <th>Imp-t</th>\n",
       "    </tr>\n",
       "  </thead>\n",
       "  <tbody>\n",
       "    <tr>\n",
       "      <th>0</th>\n",
       "      <td>Importado</td>\n",
       "      <td>781.0</td>\n",
       "    </tr>\n",
       "  </tbody>\n",
       "</table>\n",
       "</div>"
      ],
      "text/plain": [
       "  Unnamed: 0  Imp-t\n",
       "0  Importado  781.0"
      ]
     },
     "execution_count": 567,
     "metadata": {},
     "output_type": "execute_result"
    }
   ],
   "source": [
    "impor"
   ]
  },
  {
   "cell_type": "code",
   "execution_count": 568,
   "metadata": {},
   "outputs": [],
   "source": [
    "impor.columns = ['Provincia','P-t']"
   ]
  },
  {
   "cell_type": "code",
   "execution_count": 569,
   "metadata": {},
   "outputs": [],
   "source": [
    "data = pd.concat([data,impor])"
   ]
  },
  {
   "cell_type": "code",
   "execution_count": 570,
   "metadata": {},
   "outputs": [],
   "source": [
    "data.columns = ['Origen','Cantidad-t']"
   ]
  },
  {
   "cell_type": "code",
   "execution_count": 571,
   "metadata": {},
   "outputs": [],
   "source": [
    "data['Percent'] = data['Cantidad-t']/data['Cantidad-t'].sum()*100.0\n",
    "data.Percent = data.Percent.round(2)\n",
    "data.set_index('Origen',inplace=True)"
   ]
  },
  {
   "cell_type": "code",
   "execution_count": 572,
   "metadata": {},
   "outputs": [],
   "source": [
    "data.to_csv(pwd+productPATH+'comparativa_import_production.csv')"
   ]
  },
  {
   "cell_type": "code",
   "execution_count": null,
   "metadata": {
    "collapsed": true
   },
   "outputs": [],
   "source": []
  }
 ],
 "metadata": {
  "kernelspec": {
   "display_name": "Python [default]",
   "language": "python",
   "name": "python3"
  },
  "language_info": {
   "codemirror_mode": {
    "name": "ipython",
    "version": 3
   },
   "file_extension": ".py",
   "mimetype": "text/x-python",
   "name": "python",
   "nbconvert_exporter": "python",
   "pygments_lexer": "ipython3",
   "version": "3.5.3"
  }
 },
 "nbformat": 4,
 "nbformat_minor": 2
}
