{
 "cells": [
  {
   "cell_type": "code",
   "execution_count": 173,
   "metadata": {
    "collapsed": true
   },
   "outputs": [],
   "source": [
    "import pandas as pd\n",
    "import os\n",
    "\n",
    "rows = []\n",
    "\n",
    "def getData(myfile):\n",
    "    with open(myfile, 'r') as infile:\n",
    "        lines = infile.readlines()\n",
    "        rows = []\n",
    "        for line in lines[:5]:\n",
    "            FLUJO = line[0].strip()\n",
    "            ANO = line[1:3].strip()\n",
    "            MES = line[3:5].strip()\n",
    "            PROVINCIA_ADUANA = line[5:7].strip()\n",
    "            FECHA_ADMISION = line[19:25].strip()\n",
    "            POSICION_ESTADISTICA = line[25:37].strip()\n",
    "            ID_DECLARACION = line[37:38].strip()\n",
    "            CODIGOS_ADI = line[38:46].strip()\n",
    "            PAIS_ORIGEN_DESTINO = line[66:69].strip().strip()\n",
    "            PAIS_PROCEDENCIA = line[69:72].strip()\n",
    "            PROVINCIA_ORIGEN_DESTINO = line[75:77].strip()\n",
    "            REGIMEN_ADUANERO_SOLICITADO = line[82:84].strip()\n",
    "            REGIMEN_ADUANERO_PRECEDENTE = line[84:86].strip()\n",
    "            PESO = line[89:104].strip()\n",
    "            UNIDADES = line[104:119].strip()\n",
    "            VALOR_ESTADISTICO = line[119:131].strip()\n",
    "            VALOR_FACTURA = line[131:143].strip()\n",
    "            PAIS_DIVISA = line[143:146].strip()\n",
    "            CONTENEDOR = line[158:159].strip()\n",
    "            REGIMEN_TRANSPORTE = line[159:164].strip()\n",
    "            MODO_TRANSPORTE_FRONTERA = line[164:165].strip()\n",
    "            MODO_TRANSPORTE_INTERIOR = line[165:166].strip()\n",
    "            NACIONALIDAD_TRANSPORTE = line[166:169].strip()\n",
    "            ZONA_INTERCAMBIO = line[170:171].strip()\n",
    "            NATURALEZA_TRANS = line[172:174].strip()\n",
    "            COND_ENTREGA = line[174:177].strip()\n",
    "            CONTINGENTE = line[177:183].strip()\n",
    "            PREF_ARANCELARIA = line[183:189].strip()\n",
    "            FLETE = line[189:201].strip()\n",
    "            PROVINCIA_DOMICILIO_FISCAL = line[224:226].strip()\n",
    "            rows.append(','.join([FLUJO,ANO,MES,PROVINCIA_ADUANA,FECHA_ADMISION,\n",
    "            POSICION_ESTADISTICA,ID_DECLARACION,CODIGOS_ADI,PAIS_ORIGEN_DESTINO,\n",
    "            PAIS_PROCEDENCIA,PROVINCIA_ORIGEN_DESTINO,REGIMEN_ADUANERO_SOLICITADO,\n",
    "            REGIMEN_ADUANERO_PRECEDENTE,PESO,UNIDADES,VALOR_ESTADISTICO,VALOR_FACTURA,\n",
    "            PAIS_DIVISA,CONTENEDOR,REGIMEN_TRANSPORTE,MODO_TRANSPORTE_FRONTERA,MODO_TRANSPORTE_INTERIOR,\n",
    "            NACIONALIDAD_TRANSPORTE,ZONA_INTERCAMBIO,NATURALEZA_TRANS,COND_ENTREGA,CONTINGENTE,\n",
    "            PREF_ARANCELARIA,FLETE,PROVINCIA_DOMICILIO_FISCAL])+'\\n')\n",
    "            with open(myfile+'-w', 'w') as outfile:\n",
    "                outfile.write(','.join(columns)+'\\n')\n",
    "                outfile.writelines(rows)\n",
    "    return rows"
   ]
  },
  {
   "cell_type": "code",
   "execution_count": 175,
   "metadata": {},
   "outputs": [
    {
     "data": {
      "text/plain": [
       "'FLUJO,ANO,MES,PROVINCIA_ADUANA,FECHA_ADMISION,POSICION_ESTADISTICA,ID_DECLARACION,CODIGOS_ADI,PAIS_ORIGEN_DESTINO,PAIS_PROCEDENCIA,PROVINCIA_ORIGEN_DESTINO,REGIMEN_ADUANERO_SOLICITADO,REGIMEN_ADUANERO_PRECEDENTE,PESO,UNIDADES,VALOR_ESTADISTICO,VALOR_FACTURA,PAIS_DIVISA,CONTENEDOR,REGIMEN_TRANSPORTE,MODO_TRANSPORTE_FRONTERA,MODO_TRANSPORTE_INTERIOR,NACIONALIDAD_TRANSPORTE,ZONA_INTERCAMBIO,NATURALEZA_TRANS,COND_ENTREGA,CONTINGENTE,PREF_ARANCELARIA,FLETE,PROVINCIA_DOMICILIO_FISCAL\\n'"
      ]
     },
     "execution_count": 175,
     "metadata": {},
     "output_type": "execute_result"
    }
   ],
   "source": [
    "','.join(columns)+'\\n'"
   ]
  },
  {
   "cell_type": "code",
   "execution_count": 176,
   "metadata": {},
   "outputs": [
    {
     "data": {
      "text/plain": [
       "['E,17,07,28,170711,0106190000,D,,HK,ES,01,10,00,000000000008000,000000000000000,000000010000,000000000000,000,0,,4,,NL,T,33,DAT,,,000000000000,01\\n',\n",
       " 'E,17,07,28,170711,0106190000,D,,US,ES,28,10,00,000000000013000,000000000000000,000000030000,000000000000,EUR,0,,4,,NL,T,99,EXW,,,000000000000,01\\n',\n",
       " 'E,17,07,01,170808,01022959,I,,FR,FR,01,,,000000015500000,000000000062000,000006077225,000006077225,,,,3,,,C,11,FCA,,,000000000000,01\\n',\n",
       " 'E,17,07,02,170814,01041080,I,,FR,FR,16,,,000000009179030,000000000600000,000005691000,000005691000,,,,3,,,C,11,DAP,,,000000000000,02\\n',\n",
       " 'E,17,07,02,170814,01041080,I,,FR,FR,16,,,000000006245150,000000000392000,000003871993,000003871993,,,,3,,,C,11,DAP,,,000000000000,02\\n']"
      ]
     },
     "execution_count": 176,
     "metadata": {},
     "output_type": "execute_result"
    }
   ],
   "source": [
    "getData('cg17jl22')"
   ]
  },
  {
   "cell_type": "code",
   "execution_count": 189,
   "metadata": {
    "collapsed": true
   },
   "outputs": [],
   "source": [
    "data = pd.read_csv('cg17jl22-w',parse_dates=['FECHA_ADMISION'])"
   ]
  },
  {
   "cell_type": "markdown",
   "metadata": {},
   "source": [
    "data.head()"
   ]
  },
  {
   "cell_type": "code",
   "execution_count": 102,
   "metadata": {
    "collapsed": true
   },
   "outputs": [],
   "source": [
    "import pandas as pd\n",
    "import os"
   ]
  },
  {
   "cell_type": "code",
   "execution_count": 184,
   "metadata": {},
   "outputs": [],
   "source": [
    "data = pd.read_csv('cg17jl22',header=None)\n"
   ]
  },
  {
   "cell_type": "code",
   "execution_count": 185,
   "metadata": {},
   "outputs": [
    {
     "data": {
      "text/html": [
       "<div>\n",
       "<style>\n",
       "    .dataframe thead tr:only-child th {\n",
       "        text-align: right;\n",
       "    }\n",
       "\n",
       "    .dataframe thead th {\n",
       "        text-align: left;\n",
       "    }\n",
       "\n",
       "    .dataframe tbody tr th {\n",
       "        vertical-align: top;\n",
       "    }\n",
       "</style>\n",
       "<table border=\"1\" class=\"dataframe\">\n",
       "  <thead>\n",
       "    <tr style=\"text-align: right;\">\n",
       "      <th></th>\n",
       "      <th>0</th>\n",
       "    </tr>\n",
       "  </thead>\n",
       "  <tbody>\n",
       "    <tr>\n",
       "      <th>0</th>\n",
       "      <td>E170728            1707110106190000  D        ...</td>\n",
       "    </tr>\n",
       "    <tr>\n",
       "      <th>1</th>\n",
       "      <td>E170728            1707110106190000  D        ...</td>\n",
       "    </tr>\n",
       "    <tr>\n",
       "      <th>2</th>\n",
       "      <td>E170701            17080801022959    I        ...</td>\n",
       "    </tr>\n",
       "    <tr>\n",
       "      <th>3</th>\n",
       "      <td>E170702            17081401041080    I        ...</td>\n",
       "    </tr>\n",
       "    <tr>\n",
       "      <th>4</th>\n",
       "      <td>E170702            17081401041080    I        ...</td>\n",
       "    </tr>\n",
       "  </tbody>\n",
       "</table>\n",
       "</div>"
      ],
      "text/plain": [
       "                                                   0\n",
       "0  E170728            1707110106190000  D        ...\n",
       "1  E170728            1707110106190000  D        ...\n",
       "2  E170701            17080801022959    I        ...\n",
       "3  E170702            17081401041080    I        ...\n",
       "4  E170702            17081401041080    I        ..."
      ]
     },
     "execution_count": 185,
     "metadata": {},
     "output_type": "execute_result"
    }
   ],
   "source": [
    "data.head()"
   ]
  },
  {
   "cell_type": "code",
   "execution_count": 105,
   "metadata": {},
   "outputs": [
    {
     "data": {
      "text/plain": [
       "'E170728            1707110106190000  D                           1HK ES    01  EX 1000   000000000008000000000000000000000000010000000000000000000            0     4 NL  T 33DAT            000000000000                       01'"
      ]
     },
     "execution_count": 105,
     "metadata": {},
     "output_type": "execute_result"
    }
   ],
   "source": [
    "data[0][0]"
   ]
  },
  {
   "cell_type": "code",
   "execution_count": 106,
   "metadata": {},
   "outputs": [
    {
     "name": "stdout",
     "output_type": "stream",
     "text": [
      "406950\n"
     ]
    }
   ],
   "source": [
    "with open('cg17jl22', 'r') as outfile:\n",
    "    line = outfile.readline()\n",
    "    print(len(outfile.readlines()))"
   ]
  },
  {
   "cell_type": "code",
   "execution_count": 107,
   "metadata": {},
   "outputs": [],
   "source": [
    "FLUJO = line[0].strip()\n",
    "ANO = line[1:3].strip()\n",
    "MES = line[3:5].strip()\n",
    "PROVINCIA_ADUANA = line[5:7].strip()\n",
    "FECHA_ADMISION = line[19:25].strip()\n",
    "POSICION_ESTADISTICA = line[25:37].strip()\n",
    "ID_DECLARACION = line[37:38].strip()\n",
    "CODIGOS_ADI = line[38:46].strip()\n",
    "PAIS_ORIGEN_DESTINO = line[66:69].strip().strip()\n",
    "PAIS_PROCEDENCIA = line[69:72].strip()\n",
    "PROVINCIA_ORIGEN_DESTINO = line[75:77].strip()\n",
    "REGIMEN_ADUANERO_SOLICITADO = line[82:84].strip()\n",
    "REGIMEN_ADUANERO_PRECEDENTE = line[84:86].strip()\n",
    "PESO = line[89:104].strip()\n",
    "UNIDADES = line[104:119].strip()\n",
    "VALOR_ESTADISTICO = line[119:131].strip()\n",
    "VALOR_FACTURA = line[131:143].strip()\n",
    "PAIS_DIVISA = line[143:146].strip()\n",
    "CONTENEDOR = line[158:159].strip()\n",
    "REGIMEN_TRANSPORTE = line[159:164].strip()\n",
    "MODO_TRANSPORTE_FRONTERA = line[164:165].strip()\n",
    "MODO_TRANSPORTE_INTERIOR = line[165:166].strip()\n",
    "NACIONALIDAD_TRANSPORTE = line[166:169].strip()\n",
    "ZONA_INTERCAMBIO = line[170:171].strip()\n",
    "NATURALEZA_TRANS = line[172:174].strip()\n",
    "COND_ENTREGA = line[174:177].strip()\n",
    "CONTINGENTE = line[177:183].strip()\n",
    "PREF_ARANCELARIA = line[183:189].strip()\n",
    "FLETE = line[189:201].strip()\n",
    "PROVINCIA_DOMICILIO_FISCAL = line[224:226].strip()\n"
   ]
  },
  {
   "cell_type": "code",
   "execution_count": 171,
   "metadata": {},
   "outputs": [],
   "source": [
    "columns = ['FLUJO','ANO','MES','PROVINCIA_ADUANA','FECHA_ADMISION',\n",
    "           'POSICION_ESTADISTICA','ID_DECLARACION','CODIGOS_ADI','PAIS_ORIGEN_DESTINO',\n",
    "          'PAIS_PROCEDENCIA','PROVINCIA_ORIGEN_DESTINO','REGIMEN_ADUANERO_SOLICITADO',\n",
    "          'REGIMEN_ADUANERO_PRECEDENTE','PESO','UNIDADES','VALOR_ESTADISTICO','VALOR_FACTURA',\n",
    "          'PAIS_DIVISA','CONTENEDOR','REGIMEN_TRANSPORTE','MODO_TRANSPORTE_FRONTERA','MODO_TRANSPORTE_INTERIOR',\n",
    "          'NACIONALIDAD_TRANSPORTE','ZONA_INTERCAMBIO','NATURALEZA_TRANS','COND_ENTREGA','CONTINGENTE',\n",
    "          'PREF_ARANCELARIA','FLETE','PROVINCIA_DOMICILIO_FISCAL']"
   ]
  },
  {
   "cell_type": "code",
   "execution_count": 79,
   "metadata": {},
   "outputs": [],
   "source": [
    "columnsVar = [FLUJO,ANO,MES,PROVINCIA_ADUANA,FECHA_ADMISION,\n",
    "           POSICION_ESTADISTICA,ID_DECLARACION,CODIGOS_ADI,PAIS_ORIGEN_DESTINO,\n",
    "          PAIS_PROCEDENCIA,PROVINCIA_ORIGEN_DESTINO,REGIMEN_ADUANERO_SOLICITADO,\n",
    "          REGIMEN_ADUANERO_PRECEDENTE,PESO,UNIDADES,VALOR_ESTADISTICO,VALOR_FACTURA,\n",
    "          PAIS_DIVISA,CONTENEDOR,REGIMEN_TRANSPORTE,MODO_TRANSPORTE_FRONTERA,MODO_TRANSPORTE_INTERIOR,\n",
    "          NACIONALIDAD_TRANSPORTE,ZONA_INTERCAMBIO,NATURALEZA_TRANS,COND_ENTREGA,CONTINGENTE,\n",
    "          PREF_ARANCELARIA,FLETE,PROVINCIA_DOMICILIO_FISCAL]"
   ]
  },
  {
   "cell_type": "code",
   "execution_count": 64,
   "metadata": {
    "collapsed": true
   },
   "outputs": [],
   "source": [
    "row = []\n"
   ]
  },
  {
   "cell_type": "code",
   "execution_count": 65,
   "metadata": {
    "collapsed": true
   },
   "outputs": [],
   "source": [
    "row = ','.join([ZONA_INTERCAMBIO, PAIS_DIVISA])"
   ]
  },
  {
   "cell_type": "code",
   "execution_count": 66,
   "metadata": {},
   "outputs": [
    {
     "data": {
      "text/plain": [
       "'T,000'"
      ]
     },
     "execution_count": 66,
     "metadata": {},
     "output_type": "execute_result"
    }
   ],
   "source": [
    "row"
   ]
  },
  {
   "cell_type": "code",
   "execution_count": null,
   "metadata": {
    "collapsed": true
   },
   "outputs": [],
   "source": []
  }
 ],
 "metadata": {
  "kernelspec": {
   "display_name": "Python [default]",
   "language": "python",
   "name": "python3"
  },
  "language_info": {
   "codemirror_mode": {
    "name": "ipython",
    "version": 3
   },
   "file_extension": ".py",
   "mimetype": "text/x-python",
   "name": "python",
   "nbconvert_exporter": "python",
   "pygments_lexer": "ipython3",
   "version": "3.5.3"
  }
 },
 "nbformat": 4,
 "nbformat_minor": 2
}
