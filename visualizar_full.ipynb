{
 "cells": [
  {
   "cell_type": "code",
   "execution_count": 1,
   "metadata": {},
   "outputs": [
    {
     "data": {
      "text/plain": [
       "'es_ES.UTF-8'"
      ]
     },
     "execution_count": 1,
     "metadata": {},
     "output_type": "execute_result"
    }
   ],
   "source": [
    "import matplotlib.pyplot as plt\n",
    "import matplotlib\n",
    "import os\n",
    "import pandas as pd\n",
    "import numpy as np\n",
    "%matplotlib inline\n",
    "matplotlib.style.use('ggplot')\n",
    "import datetime\n",
    "import locale\n",
    "import time\n",
    "locale.setlocale(locale.LC_TIME, 'es_ES.UTF-8')"
   ]
  },
  {
   "cell_type": "code",
   "execution_count": 4,
   "metadata": {
    "collapsed": true
   },
   "outputs": [],
   "source": [
    "product = 'patata'\n",
    "tipo = 'import'\n",
    "pwd = '/Volumes/Macintosh HD/_GitHub/journey-of-food/data/'"
   ]
  },
  {
   "cell_type": "code",
   "execution_count": 3,
   "metadata": {},
   "outputs": [
    {
     "data": {
      "text/plain": [
       "['.DS_Store',\n",
       " 'AE_2014_13_03_02_01.xls',\n",
       " 'AE_2014_13_03_02_02.xls',\n",
       " 'AE_2014_13_03_02_03.xls',\n",
       " 'AE_2014_13_03_02_04.xls',\n",
       " 'exec13_3.2.1 2.xlsx',\n",
       " 'exec13_3.2.1.xlsx',\n",
       " 'exec13_3.2.2 2.xlsx',\n",
       " 'exec13_3.2.2.xlsx',\n",
       " 'exec13_3.2.3 2.xlsx',\n",
       " 'exec13_3.2.3.xlsx',\n",
       " 'exec13_3.2.4 2.xlsx',\n",
       " 'exec13_3.2.4.xlsx',\n",
       " 'Icon\\r',\n",
       " 'patata_production_ready.csv',\n",
       " 'patata_production_ready_2014.csv',\n",
       " 'patata_production_ready_INE.csv',\n",
       " 'patata_production_ready_melt.csv',\n",
       " 'patata_production_ready_melt_2014.csv',\n",
       " '~$exec13_3.2.4 2.xlsx']"
      ]
     },
     "execution_count": 3,
     "metadata": {},
     "output_type": "execute_result"
    }
   ],
   "source": [
    "os.chdir(pwd+product+'/'+tipo)\n",
    "files = os.listdir()\n",
    "files"
   ]
  },
  {
   "cell_type": "code",
   "execution_count": null,
   "metadata": {
    "collapsed": true
   },
   "outputs": [],
   "source": []
  }
 ],
 "metadata": {
  "kernelspec": {
   "display_name": "Python [default]",
   "language": "python",
   "name": "python3"
  },
  "language_info": {
   "codemirror_mode": {
    "name": "ipython",
    "version": 3
   },
   "file_extension": ".py",
   "mimetype": "text/x-python",
   "name": "python",
   "nbconvert_exporter": "python",
   "pygments_lexer": "ipython3",
   "version": "3.5.3"
  }
 },
 "nbformat": 4,
 "nbformat_minor": 2
}
