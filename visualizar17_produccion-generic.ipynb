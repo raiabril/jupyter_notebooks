{
 "cells": [
  {
   "cell_type": "code",
   "execution_count": 48,
   "metadata": {
    "collapsed": true
   },
   "outputs": [],
   "source": [
    "import matplotlib.pyplot as plt\n",
    "import matplotlib\n",
    "import os\n",
    "import pandas as pd\n",
    "import numpy as np\n",
    "%matplotlib inline\n",
    "matplotlib.style.use('ggplot')\n",
    "import datetime\n",
    "import locale\n",
    "import time\n",
    "locale.setlocale(locale.LC_TIME, 'es_ES.UTF-8')\n",
    "import glob\n",
    "\n",
    "import ipywidgets\n",
    "from IPython.display import display"
   ]
  },
  {
   "cell_type": "code",
   "execution_count": 907,
   "metadata": {
    "collapsed": true
   },
   "outputs": [],
   "source": [
    "product = 'apio'\n",
    "tipo = 'production/'\n",
    "pwd = '/Volumes/Macintosh HD/_GitHub/journey-of-food/data/producto/'\n",
    "aux = '/Volumes/Macintosh HD/_GitHub/journey-of-food/data/aux/'"
   ]
  },
  {
   "cell_type": "code",
   "execution_count": 908,
   "metadata": {
    "collapsed": true
   },
   "outputs": [],
   "source": [
    "tipos = os.listdir(pwd)[1:]"
   ]
  },
  {
   "cell_type": "code",
   "execution_count": 909,
   "metadata": {},
   "outputs": [
    {
     "data": {
      "application/vnd.jupyter.widget-view+json": {
       "model_id": "bab51af06c7c47748b1cbae3628d82ee",
       "version_major": 2,
       "version_minor": 0
      },
      "text/plain": [
       "A Jupyter Widget"
      ]
     },
     "metadata": {},
     "output_type": "display_data"
    },
    {
     "name": "stdout",
     "output_type": "stream",
     "text": [
      "changed to col\n",
      "changed to espinaca\n",
      "changed to haba\n",
      "changed to kiwi\n",
      "changed to lima\n",
      "changed to limon\n",
      "changed to mandarina\n",
      "changed to nabo\n",
      "changed to naranja\n",
      "changed to uva\n",
      "changed to zanahoria\n",
      "changed to sandia\n",
      "changed to remolacha\n",
      "changed to rabano\n",
      "changed to puerro\n",
      "changed to pomelo\n",
      "changed to platano\n",
      "changed to pina\n",
      "changed to pimiento\n",
      "changed to pera\n",
      "changed to pepino\n",
      "changed to patata\n",
      "changed to papaya\n",
      "changed to nectarina\n",
      "changed to naranja\n",
      "changed to nabo\n",
      "changed to mora\n",
      "changed to melon\n"
     ]
    }
   ],
   "source": [
    "dropdown = ipywidgets.Dropdown(\n",
    "    options = tipos,\n",
    "    value = 'ajo')\n",
    "display(dropdown)\n",
    "\n",
    "def on_change(change):\n",
    "    if change['type'] == 'change' and change['name'] == 'value':\n",
    "        print(\"changed to %s\" % change['new'])\n",
    "dropdown.observe(on_change)"
   ]
  },
  {
   "cell_type": "code",
   "execution_count": 1896,
   "metadata": {
    "collapsed": true
   },
   "outputs": [],
   "source": [
    "product = dropdown.value\n",
    "productPATH = product + '/'"
   ]
  },
  {
   "cell_type": "code",
   "execution_count": 1897,
   "metadata": {},
   "outputs": [
    {
     "data": {
      "text/plain": [
       "['/Volumes/Macintosh HD/_GitHub/journey-of-food/data/producto/melon/production/exec13_6.21.3.xlsx',\n",
       " '/Volumes/Macintosh HD/_GitHub/journey-of-food/data/producto/melon/production/exec13_6.21.4.xlsx']"
      ]
     },
     "execution_count": 1897,
     "metadata": {},
     "output_type": "execute_result"
    }
   ],
   "source": [
    "products = os.listdir(pwd)\n",
    "os.chdir(pwd+productPATH+tipo)\n",
    "files = glob.glob(pwd+productPATH+tipo+'*.xlsx')\n",
    "files"
   ]
  },
  {
   "cell_type": "code",
   "execution_count": 1901,
   "metadata": {},
   "outputs": [],
   "source": [
    "data = pd.read_excel(files[0],skiprows=[0,1,2,3,4,5], encoding ='utf-8')\n",
    "data.fillna(0,inplace=True)"
   ]
  },
  {
   "cell_type": "code",
   "execution_count": 1902,
   "metadata": {},
   "outputs": [
    {
     "data": {
      "text/html": [
       "<div>\n",
       "<style>\n",
       "    .dataframe thead tr:only-child th {\n",
       "        text-align: right;\n",
       "    }\n",
       "\n",
       "    .dataframe thead th {\n",
       "        text-align: left;\n",
       "    }\n",
       "\n",
       "    .dataframe tbody tr th {\n",
       "        vertical-align: top;\n",
       "    }\n",
       "</style>\n",
       "<table border=\"1\" class=\"dataframe\">\n",
       "  <thead>\n",
       "    <tr style=\"text-align: right;\">\n",
       "      <th></th>\n",
       "      <th>Unnamed: 0</th>\n",
       "      <th>Unnamed: 1</th>\n",
       "      <th>Aire libre</th>\n",
       "      <th>Protegido</th>\n",
       "      <th>Unnamed: 4</th>\n",
       "      <th>Unnamed: 5</th>\n",
       "      <th>Aire libre.1</th>\n",
       "      <th>Protegido.1</th>\n",
       "      <th>Unnamed: 8</th>\n",
       "    </tr>\n",
       "  </thead>\n",
       "  <tbody>\n",
       "    <tr>\n",
       "      <th>0</th>\n",
       "      <td>A Coruña</td>\n",
       "      <td>–</td>\n",
       "      <td>–</td>\n",
       "      <td>–</td>\n",
       "      <td>–</td>\n",
       "      <td>–</td>\n",
       "      <td>–</td>\n",
       "      <td>–</td>\n",
       "      <td>–</td>\n",
       "    </tr>\n",
       "    <tr>\n",
       "      <th>1</th>\n",
       "      <td>Lugo</td>\n",
       "      <td>–</td>\n",
       "      <td>–</td>\n",
       "      <td>–</td>\n",
       "      <td>–</td>\n",
       "      <td>–</td>\n",
       "      <td>–</td>\n",
       "      <td>–</td>\n",
       "      <td>–</td>\n",
       "    </tr>\n",
       "  </tbody>\n",
       "</table>\n",
       "</div>"
      ],
      "text/plain": [
       "  Unnamed: 0 Unnamed: 1 Aire libre Protegido Unnamed: 4 Unnamed: 5  \\\n",
       "0   A Coruña          –          –         –          –          –   \n",
       "1       Lugo          –          –         –          –          –   \n",
       "\n",
       "  Aire libre.1 Protegido.1 Unnamed: 8  \n",
       "0            –           –          –  \n",
       "1            –           –          –  "
      ]
     },
     "execution_count": 1902,
     "metadata": {},
     "output_type": "execute_result"
    }
   ],
   "source": [
    "data.head(2)"
   ]
  },
  {
   "cell_type": "code",
   "execution_count": 1903,
   "metadata": {},
   "outputs": [
    {
     "data": {
      "text/plain": [
       "0      A Coruña\n",
       "1          Lugo\n",
       "2       Ourense\n",
       "3    Pontevedra\n",
       "4       GALICIA\n",
       "Name: Unnamed: 0, dtype: object"
      ]
     },
     "execution_count": 1903,
     "metadata": {},
     "output_type": "execute_result"
    }
   ],
   "source": [
    "data[data.columns[0]].head()"
   ]
  },
  {
   "cell_type": "code",
   "execution_count": 1904,
   "metadata": {
    "collapsed": true
   },
   "outputs": [],
   "source": [
    "data = pd.DataFrame([data[data.columns[0]], data[data.columns[-1]]]).transpose()"
   ]
  },
  {
   "cell_type": "code",
   "execution_count": 1905,
   "metadata": {},
   "outputs": [
    {
     "data": {
      "text/html": [
       "<div>\n",
       "<style>\n",
       "    .dataframe thead tr:only-child th {\n",
       "        text-align: right;\n",
       "    }\n",
       "\n",
       "    .dataframe thead th {\n",
       "        text-align: left;\n",
       "    }\n",
       "\n",
       "    .dataframe tbody tr th {\n",
       "        vertical-align: top;\n",
       "    }\n",
       "</style>\n",
       "<table border=\"1\" class=\"dataframe\">\n",
       "  <thead>\n",
       "    <tr style=\"text-align: right;\">\n",
       "      <th></th>\n",
       "      <th>Unnamed: 0</th>\n",
       "      <th>Unnamed: 8</th>\n",
       "    </tr>\n",
       "  </thead>\n",
       "  <tbody>\n",
       "    <tr>\n",
       "      <th>0</th>\n",
       "      <td>A Coruña</td>\n",
       "      <td>–</td>\n",
       "    </tr>\n",
       "    <tr>\n",
       "      <th>1</th>\n",
       "      <td>Lugo</td>\n",
       "      <td>–</td>\n",
       "    </tr>\n",
       "    <tr>\n",
       "      <th>2</th>\n",
       "      <td>Ourense</td>\n",
       "      <td>–</td>\n",
       "    </tr>\n",
       "    <tr>\n",
       "      <th>3</th>\n",
       "      <td>Pontevedra</td>\n",
       "      <td>–</td>\n",
       "    </tr>\n",
       "    <tr>\n",
       "      <th>4</th>\n",
       "      <td>GALICIA</td>\n",
       "      <td>–</td>\n",
       "    </tr>\n",
       "  </tbody>\n",
       "</table>\n",
       "</div>"
      ],
      "text/plain": [
       "   Unnamed: 0 Unnamed: 8\n",
       "0    A Coruña          –\n",
       "1        Lugo          –\n",
       "2     Ourense          –\n",
       "3  Pontevedra          –\n",
       "4     GALICIA          –"
      ]
     },
     "execution_count": 1905,
     "metadata": {},
     "output_type": "execute_result"
    }
   ],
   "source": [
    "data.head()"
   ]
  },
  {
   "cell_type": "code",
   "execution_count": 1906,
   "metadata": {
    "collapsed": true
   },
   "outputs": [],
   "source": [
    "data.columns = ['Provincia','P-t']"
   ]
  },
  {
   "cell_type": "code",
   "execution_count": 1907,
   "metadata": {},
   "outputs": [
    {
     "data": {
      "text/plain": [
       "array(['A Coruña', 'Lugo', 'Ourense', 'Pontevedra', ' GALICIA', 0,\n",
       "       ' P. DE ASTURIAS', ' CANTABRIA', 'Alava', 'Guipúzcoa', 'Vizcaya',\n",
       "       ' PAÍS VASCO', ' NAVARRA', ' LA RIOJA', 'Huesca', 'Teruel',\n",
       "       'Zaragoza', ' ARAGÓN', 'Barcelona', 'Girona', 'Lleida', 'Tarragona',\n",
       "       ' CATALUÑA', ' BALEARES', 'Avila', 'Burgos', 'León', 'Palencia',\n",
       "       'Salamanca', 'Segovia', 'Soria', 'Valladolid', 'Zamora',\n",
       "       ' CASTILLA Y LEÓN', ' MADRID', 'Albacete', 'Ciudad Real', 'Cuenca',\n",
       "       'Guadalajara', 'Toledo', ' CASTILLA-LA MANCHA', 'Alicante',\n",
       "       'Castellón', 'Valencia', ' C. VALENCIANA', ' R. DE MURCIA',\n",
       "       'Badajoz', 'Cáceres', ' EXTREMADURA', 'Almería', 'Cádiz', 'Córdoba',\n",
       "       'Granada', 'Huelva', 'Jaén', 'Málaga', 'Sevilla', ' ANDALUCÍA',\n",
       "       'Las Palmas', 'S.C. de Tenerife', ' CANARIAS', 'ESPAÑA'], dtype=object)"
      ]
     },
     "execution_count": 1907,
     "metadata": {},
     "output_type": "execute_result"
    }
   ],
   "source": [
    "data.Provincia.unique()"
   ]
  },
  {
   "cell_type": "code",
   "execution_count": 1908,
   "metadata": {
    "collapsed": true
   },
   "outputs": [],
   "source": [
    "data = data.loc[data.Provincia!=0]\n",
    "data = data.loc[data['Provincia'] != ' GALICIA']\n",
    "data = data.loc[data['Provincia'] != ' PAÍS VASCO']\n",
    "data = data.loc[data['Provincia'] != ' PAIS VASCO']\n",
    "data = data.loc[data['Provincia'] != ' ARAGÓN']\n",
    "data = data.loc[data['Provincia'] != ' ARAGON']\n",
    "data = data.loc[data['Provincia'] != ' CATALUÑA']\n",
    "data = data.loc[data['Provincia'] != ' CASTILLA Y LEÓN']\n",
    "data = data.loc[data['Provincia'] != ' CASTILLA Y LEON']\n",
    "data = data.loc[data['Provincia'] != ' CASTILLA-LA MANCHA']\n",
    "data = data.loc[data['Provincia'] != ' C. VALENCIANA']\n",
    "data = data.loc[data['Provincia'] != ' EXTREMADURA']\n",
    "data = data.loc[data['Provincia'] != ' ANDALUCÍA']\n",
    "data = data.loc[data['Provincia'] != ' ANDALUCIA']\n",
    "data = data.loc[data['Provincia'] != ' CANARIAS']\n",
    "data = data.loc[data['Provincia'] != ' C. VALENCIANA']\n",
    "data = data.loc[data['Provincia'] != 'ESPAÑA']\n",
    "#data = data.loc[data['Provincia'] != 'Las Palmas']\n",
    "#data = data.loc[data['Provincia'] != 'S.C. de Tenerife']"
   ]
  },
  {
   "cell_type": "code",
   "execution_count": 1909,
   "metadata": {},
   "outputs": [
    {
     "data": {
      "text/html": [
       "<div>\n",
       "<style>\n",
       "    .dataframe thead tr:only-child th {\n",
       "        text-align: right;\n",
       "    }\n",
       "\n",
       "    .dataframe thead th {\n",
       "        text-align: left;\n",
       "    }\n",
       "\n",
       "    .dataframe tbody tr th {\n",
       "        vertical-align: top;\n",
       "    }\n",
       "</style>\n",
       "<table border=\"1\" class=\"dataframe\">\n",
       "  <thead>\n",
       "    <tr style=\"text-align: right;\">\n",
       "      <th></th>\n",
       "      <th>Provincia</th>\n",
       "      <th>P-t</th>\n",
       "    </tr>\n",
       "  </thead>\n",
       "  <tbody>\n",
       "    <tr>\n",
       "      <th>0</th>\n",
       "      <td>A Coruña</td>\n",
       "      <td>0</td>\n",
       "    </tr>\n",
       "    <tr>\n",
       "      <th>1</th>\n",
       "      <td>Lugo</td>\n",
       "      <td>0</td>\n",
       "    </tr>\n",
       "    <tr>\n",
       "      <th>2</th>\n",
       "      <td>Ourense</td>\n",
       "      <td>0</td>\n",
       "    </tr>\n",
       "    <tr>\n",
       "      <th>3</th>\n",
       "      <td>Pontevedra</td>\n",
       "      <td>0</td>\n",
       "    </tr>\n",
       "    <tr>\n",
       "      <th>6</th>\n",
       "      <td>P. DE ASTURIAS</td>\n",
       "      <td>0</td>\n",
       "    </tr>\n",
       "  </tbody>\n",
       "</table>\n",
       "</div>"
      ],
      "text/plain": [
       "         Provincia  P-t\n",
       "0         A Coruña    0\n",
       "1             Lugo    0\n",
       "2          Ourense    0\n",
       "3       Pontevedra    0\n",
       "6   P. DE ASTURIAS    0"
      ]
     },
     "execution_count": 1909,
     "metadata": {},
     "output_type": "execute_result"
    }
   ],
   "source": [
    "data['P-t'].replace('–',0,inplace=True)\n",
    "data.head()"
   ]
  },
  {
   "cell_type": "code",
   "execution_count": 1910,
   "metadata": {},
   "outputs": [
    {
     "data": {
      "text/plain": [
       "array(['A Coruña', 'Lugo', 'Ourense', 'Pontevedra', ' P. DE ASTURIAS',\n",
       "       ' CANTABRIA', 'Alava', 'Guipúzcoa', 'Vizcaya', ' NAVARRA',\n",
       "       ' LA RIOJA', 'Huesca', 'Teruel', 'Zaragoza', 'Barcelona', 'Girona',\n",
       "       'Lleida', 'Tarragona', ' BALEARES', 'Avila', 'Burgos', 'León',\n",
       "       'Palencia', 'Salamanca', 'Segovia', 'Soria', 'Valladolid', 'Zamora',\n",
       "       ' MADRID', 'Albacete', 'Ciudad Real', 'Cuenca', 'Guadalajara',\n",
       "       'Toledo', 'Alicante', 'Castellón', 'Valencia', ' R. DE MURCIA',\n",
       "       'Badajoz', 'Cáceres', 'Almería', 'Cádiz', 'Córdoba', 'Granada',\n",
       "       'Huelva', 'Jaén', 'Málaga', 'Sevilla', 'Las Palmas',\n",
       "       'S.C. de Tenerife'], dtype=object)"
      ]
     },
     "execution_count": 1910,
     "metadata": {},
     "output_type": "execute_result"
    }
   ],
   "source": [
    "data.Provincia.values"
   ]
  },
  {
   "cell_type": "code",
   "execution_count": 1911,
   "metadata": {},
   "outputs": [
    {
     "data": {
      "text/html": [
       "<div>\n",
       "<style>\n",
       "    .dataframe thead tr:only-child th {\n",
       "        text-align: right;\n",
       "    }\n",
       "\n",
       "    .dataframe thead th {\n",
       "        text-align: left;\n",
       "    }\n",
       "\n",
       "    .dataframe tbody tr th {\n",
       "        vertical-align: top;\n",
       "    }\n",
       "</style>\n",
       "<table border=\"1\" class=\"dataframe\">\n",
       "  <thead>\n",
       "    <tr style=\"text-align: right;\">\n",
       "      <th></th>\n",
       "      <th>Provincia</th>\n",
       "      <th>P-t</th>\n",
       "    </tr>\n",
       "  </thead>\n",
       "  <tbody>\n",
       "    <tr>\n",
       "      <th>73</th>\n",
       "      <td>Las Palmas</td>\n",
       "      <td>3293</td>\n",
       "    </tr>\n",
       "    <tr>\n",
       "      <th>74</th>\n",
       "      <td>S.C. de Tenerife</td>\n",
       "      <td>1660</td>\n",
       "    </tr>\n",
       "  </tbody>\n",
       "</table>\n",
       "</div>"
      ],
      "text/plain": [
       "           Provincia   P-t\n",
       "73        Las Palmas  3293\n",
       "74  S.C. de Tenerife  1660"
      ]
     },
     "execution_count": 1911,
     "metadata": {},
     "output_type": "execute_result"
    }
   ],
   "source": [
    "dataCanarias = data[(data.Provincia =='Las Palmas') | (data.Provincia == 'S.C. de Tenerife')]\n",
    "data = data[(data.Provincia !='Las Palmas') & (data.Provincia != 'S.C. de Tenerife')]\n",
    "dataCanarias.head()"
   ]
  },
  {
   "cell_type": "code",
   "execution_count": 1912,
   "metadata": {
    "collapsed": true
   },
   "outputs": [],
   "source": [
    "provincias = pd.read_csv(aux+'provincias.csv', delimiter='\\t',index_col=1)"
   ]
  },
  {
   "cell_type": "code",
   "execution_count": 1913,
   "metadata": {
    "collapsed": true
   },
   "outputs": [],
   "source": [
    "data.Provincia = data.Provincia.apply(lambda x: x.upper())"
   ]
  },
  {
   "cell_type": "code",
   "execution_count": 1914,
   "metadata": {},
   "outputs": [
    {
     "data": {
      "text/html": [
       "<div>\n",
       "<style>\n",
       "    .dataframe thead tr:only-child th {\n",
       "        text-align: right;\n",
       "    }\n",
       "\n",
       "    .dataframe thead th {\n",
       "        text-align: left;\n",
       "    }\n",
       "\n",
       "    .dataframe tbody tr th {\n",
       "        vertical-align: top;\n",
       "    }\n",
       "</style>\n",
       "<table border=\"1\" class=\"dataframe\">\n",
       "  <thead>\n",
       "    <tr style=\"text-align: right;\">\n",
       "      <th></th>\n",
       "      <th>Provincia</th>\n",
       "      <th>P-t</th>\n",
       "    </tr>\n",
       "  </thead>\n",
       "  <tbody>\n",
       "    <tr>\n",
       "      <th>57</th>\n",
       "      <td>R. DE MURCIA</td>\n",
       "      <td>189013</td>\n",
       "    </tr>\n",
       "  </tbody>\n",
       "</table>\n",
       "</div>"
      ],
      "text/plain": [
       "        Provincia     P-t\n",
       "57   R. DE MURCIA  189013"
      ]
     },
     "execution_count": 1914,
     "metadata": {},
     "output_type": "execute_result"
    }
   ],
   "source": [
    "data.sort_values('P-t',ascending=False).head(1)"
   ]
  },
  {
   "cell_type": "code",
   "execution_count": 1915,
   "metadata": {
    "collapsed": true
   },
   "outputs": [],
   "source": [
    "data['INE'] = data.Provincia.map(provincias.ID)"
   ]
  },
  {
   "cell_type": "code",
   "execution_count": 1916,
   "metadata": {},
   "outputs": [
    {
     "data": {
      "text/html": [
       "<div>\n",
       "<style>\n",
       "    .dataframe thead tr:only-child th {\n",
       "        text-align: right;\n",
       "    }\n",
       "\n",
       "    .dataframe thead th {\n",
       "        text-align: left;\n",
       "    }\n",
       "\n",
       "    .dataframe tbody tr th {\n",
       "        vertical-align: top;\n",
       "    }\n",
       "</style>\n",
       "<table border=\"1\" class=\"dataframe\">\n",
       "  <thead>\n",
       "    <tr style=\"text-align: right;\">\n",
       "      <th></th>\n",
       "      <th>Provincia</th>\n",
       "      <th>P-t</th>\n",
       "      <th>INE</th>\n",
       "    </tr>\n",
       "  </thead>\n",
       "  <tbody>\n",
       "    <tr>\n",
       "      <th>57</th>\n",
       "      <td>R. DE MURCIA</td>\n",
       "      <td>189013</td>\n",
       "      <td>30</td>\n",
       "    </tr>\n",
       "  </tbody>\n",
       "</table>\n",
       "</div>"
      ],
      "text/plain": [
       "        Provincia     P-t  INE\n",
       "57   R. DE MURCIA  189013   30"
      ]
     },
     "execution_count": 1916,
     "metadata": {},
     "output_type": "execute_result"
    }
   ],
   "source": [
    "data.sort_values('P-t',ascending=False).head(1)"
   ]
  },
  {
   "cell_type": "code",
   "execution_count": 1917,
   "metadata": {
    "collapsed": true
   },
   "outputs": [],
   "source": [
    "provincias_name = provincias = pd.read_csv(aux+'provincias_nombre_es.csv',index_col=1)"
   ]
  },
  {
   "cell_type": "code",
   "execution_count": 1918,
   "metadata": {
    "collapsed": true
   },
   "outputs": [],
   "source": [
    "data.Provincia = data.INE.map(provincias_name.ID)"
   ]
  },
  {
   "cell_type": "code",
   "execution_count": 1919,
   "metadata": {
    "collapsed": true
   },
   "outputs": [],
   "source": [
    "datos = data.sort_values('P-t',ascending=False).head(1)"
   ]
  },
  {
   "cell_type": "code",
   "execution_count": 1920,
   "metadata": {},
   "outputs": [
    {
     "data": {
      "text/html": [
       "<div>\n",
       "<style>\n",
       "    .dataframe thead tr:only-child th {\n",
       "        text-align: right;\n",
       "    }\n",
       "\n",
       "    .dataframe thead th {\n",
       "        text-align: left;\n",
       "    }\n",
       "\n",
       "    .dataframe tbody tr th {\n",
       "        vertical-align: top;\n",
       "    }\n",
       "</style>\n",
       "<table border=\"1\" class=\"dataframe\">\n",
       "  <thead>\n",
       "    <tr style=\"text-align: right;\">\n",
       "      <th></th>\n",
       "      <th>Provincia</th>\n",
       "      <th>P-t</th>\n",
       "      <th>INE</th>\n",
       "    </tr>\n",
       "  </thead>\n",
       "  <tbody>\n",
       "    <tr>\n",
       "      <th>57</th>\n",
       "      <td>Murcia</td>\n",
       "      <td>189013</td>\n",
       "      <td>30</td>\n",
       "    </tr>\n",
       "  </tbody>\n",
       "</table>\n",
       "</div>"
      ],
      "text/plain": [
       "   Provincia     P-t  INE\n",
       "57    Murcia  189013   30"
      ]
     },
     "execution_count": 1920,
     "metadata": {},
     "output_type": "execute_result"
    }
   ],
   "source": [
    "datos.head()"
   ]
  },
  {
   "cell_type": "code",
   "execution_count": 1921,
   "metadata": {
    "collapsed": true
   },
   "outputs": [],
   "source": [
    "datos.to_csv(pwd+productPATH+tipo+'principal_provincia_peninsula.csv',encoding='utf-8')"
   ]
  },
  {
   "cell_type": "code",
   "execution_count": 1922,
   "metadata": {
    "collapsed": true
   },
   "outputs": [],
   "source": [
    "#data = data.loc[data.index<73]"
   ]
  },
  {
   "cell_type": "code",
   "execution_count": 1923,
   "metadata": {
    "collapsed": true
   },
   "outputs": [],
   "source": [
    "data.sort_values('P-t',ascending=False,inplace=True)"
   ]
  },
  {
   "cell_type": "code",
   "execution_count": 1924,
   "metadata": {
    "collapsed": true
   },
   "outputs": [],
   "source": [
    "head = data[:3]\n",
    "tail = data[3:]"
   ]
  },
  {
   "cell_type": "code",
   "execution_count": 1925,
   "metadata": {},
   "outputs": [
    {
     "data": {
      "text/html": [
       "<div>\n",
       "<style>\n",
       "    .dataframe thead tr:only-child th {\n",
       "        text-align: right;\n",
       "    }\n",
       "\n",
       "    .dataframe thead th {\n",
       "        text-align: left;\n",
       "    }\n",
       "\n",
       "    .dataframe tbody tr th {\n",
       "        vertical-align: top;\n",
       "    }\n",
       "</style>\n",
       "<table border=\"1\" class=\"dataframe\">\n",
       "  <thead>\n",
       "    <tr style=\"text-align: right;\">\n",
       "      <th></th>\n",
       "      <th>Provincia</th>\n",
       "      <th>P-t</th>\n",
       "      <th>INE</th>\n",
       "    </tr>\n",
       "  </thead>\n",
       "  <tbody>\n",
       "    <tr>\n",
       "      <th>0</th>\n",
       "      <td>Resto de España</td>\n",
       "      <td>195735</td>\n",
       "      <td>0</td>\n",
       "    </tr>\n",
       "  </tbody>\n",
       "</table>\n",
       "</div>"
      ],
      "text/plain": [
       "         Provincia     P-t  INE\n",
       "0  Resto de España  195735    0"
      ]
     },
     "execution_count": 1925,
     "metadata": {},
     "output_type": "execute_result"
    }
   ],
   "source": [
    "tail = pd.DataFrame(tail.sum()).transpose()\n",
    "tail.Provincia = 'Resto de España'\n",
    "tail.INE = 0\n",
    "tail.head()"
   ]
  },
  {
   "cell_type": "code",
   "execution_count": 1926,
   "metadata": {
    "collapsed": true
   },
   "outputs": [],
   "source": [
    "grafico = pd.concat([head,tail])"
   ]
  },
  {
   "cell_type": "code",
   "execution_count": 1927,
   "metadata": {
    "collapsed": true
   },
   "outputs": [],
   "source": [
    "grafico.set_index('Provincia',inplace=True)"
   ]
  },
  {
   "cell_type": "code",
   "execution_count": 1928,
   "metadata": {},
   "outputs": [
    {
     "data": {
      "text/html": [
       "<div>\n",
       "<style>\n",
       "    .dataframe thead tr:only-child th {\n",
       "        text-align: right;\n",
       "    }\n",
       "\n",
       "    .dataframe thead th {\n",
       "        text-align: left;\n",
       "    }\n",
       "\n",
       "    .dataframe tbody tr th {\n",
       "        vertical-align: top;\n",
       "    }\n",
       "</style>\n",
       "<table border=\"1\" class=\"dataframe\">\n",
       "  <thead>\n",
       "    <tr style=\"text-align: right;\">\n",
       "      <th></th>\n",
       "      <th>P-t</th>\n",
       "      <th>INE</th>\n",
       "      <th>Percent</th>\n",
       "    </tr>\n",
       "    <tr>\n",
       "      <th>Provincia</th>\n",
       "      <th></th>\n",
       "      <th></th>\n",
       "      <th></th>\n",
       "    </tr>\n",
       "  </thead>\n",
       "  <tbody>\n",
       "    <tr>\n",
       "      <th>Murcia</th>\n",
       "      <td>189013</td>\n",
       "      <td>30</td>\n",
       "      <td>27.51</td>\n",
       "    </tr>\n",
       "    <tr>\n",
       "      <th>Ciudad Real</th>\n",
       "      <td>187500</td>\n",
       "      <td>13</td>\n",
       "      <td>27.29</td>\n",
       "    </tr>\n",
       "    <tr>\n",
       "      <th>Almería</th>\n",
       "      <td>114855</td>\n",
       "      <td>4</td>\n",
       "      <td>16.72</td>\n",
       "    </tr>\n",
       "    <tr>\n",
       "      <th>Resto de España</th>\n",
       "      <td>195735</td>\n",
       "      <td>0</td>\n",
       "      <td>28.49</td>\n",
       "    </tr>\n",
       "  </tbody>\n",
       "</table>\n",
       "</div>"
      ],
      "text/plain": [
       "                    P-t  INE  Percent\n",
       "Provincia                            \n",
       "Murcia           189013   30    27.51\n",
       "Ciudad Real      187500   13    27.29\n",
       "Almería          114855    4    16.72\n",
       "Resto de España  195735    0    28.49"
      ]
     },
     "execution_count": 1928,
     "metadata": {},
     "output_type": "execute_result"
    }
   ],
   "source": [
    "grafico['Percent'] = grafico['P-t']/sum(grafico['P-t'])*100.00\n",
    "grafico.Percent = grafico.Percent.astype('float')\n",
    "grafico.Percent = grafico.Percent.round(2)\n",
    "grafico.head()"
   ]
  },
  {
   "cell_type": "code",
   "execution_count": 1929,
   "metadata": {
    "collapsed": true
   },
   "outputs": [],
   "source": [
    "grafico.to_csv(pwd+productPATH+tipo+'grafico.csv', encoding='utf-8')"
   ]
  },
  {
   "cell_type": "code",
   "execution_count": 1930,
   "metadata": {},
   "outputs": [
    {
     "data": {
      "image/png": "[encoded data removed]",
      "text/plain": [
       "<matplotlib.figure.Figure at 0x11af8bf98>"
      ]
     },
     "metadata": {},
     "output_type": "display_data"
    }
   ],
   "source": [
    "grafico['Percent'].plot('barh')\n",
    "plt.xlabel('Percent')\n",
    "plt.savefig(product+'.png')"
   ]
  },
  {
   "cell_type": "code",
   "execution_count": 1931,
   "metadata": {
    "collapsed": true
   },
   "outputs": [],
   "source": [
    "data.to_csv(pwd+productPATH+tipo+'production_ready_INE.csv', encoding='utf-8')"
   ]
  },
  {
   "cell_type": "code",
   "execution_count": 1932,
   "metadata": {},
   "outputs": [
    {
     "data": {
      "text/html": [
       "<div>\n",
       "<style>\n",
       "    .dataframe thead tr:only-child th {\n",
       "        text-align: right;\n",
       "    }\n",
       "\n",
       "    .dataframe thead th {\n",
       "        text-align: left;\n",
       "    }\n",
       "\n",
       "    .dataframe tbody tr th {\n",
       "        vertical-align: top;\n",
       "    }\n",
       "</style>\n",
       "<table border=\"1\" class=\"dataframe\">\n",
       "  <thead>\n",
       "    <tr style=\"text-align: right;\">\n",
       "      <th></th>\n",
       "      <th>Provincia</th>\n",
       "      <th>P-t</th>\n",
       "      <th>INE</th>\n",
       "    </tr>\n",
       "  </thead>\n",
       "  <tbody>\n",
       "    <tr>\n",
       "      <th>57</th>\n",
       "      <td>Murcia</td>\n",
       "      <td>189013</td>\n",
       "      <td>30</td>\n",
       "    </tr>\n",
       "    <tr>\n",
       "      <th>46</th>\n",
       "      <td>Ciudad Real</td>\n",
       "      <td>187500</td>\n",
       "      <td>13</td>\n",
       "    </tr>\n",
       "    <tr>\n",
       "      <th>63</th>\n",
       "      <td>Almería</td>\n",
       "      <td>114855</td>\n",
       "      <td>4</td>\n",
       "    </tr>\n",
       "    <tr>\n",
       "      <th>59</th>\n",
       "      <td>Badajoz</td>\n",
       "      <td>36790</td>\n",
       "      <td>6</td>\n",
       "    </tr>\n",
       "    <tr>\n",
       "      <th>52</th>\n",
       "      <td>Alicante</td>\n",
       "      <td>29071</td>\n",
       "      <td>3</td>\n",
       "    </tr>\n",
       "  </tbody>\n",
       "</table>\n",
       "</div>"
      ],
      "text/plain": [
       "      Provincia     P-t  INE\n",
       "57       Murcia  189013   30\n",
       "46  Ciudad Real  187500   13\n",
       "63      Almería  114855    4\n",
       "59      Badajoz   36790    6\n",
       "52     Alicante   29071    3"
      ]
     },
     "execution_count": 1932,
     "metadata": {},
     "output_type": "execute_result"
    }
   ],
   "source": [
    "data.head()"
   ]
  },
  {
   "cell_type": "code",
   "execution_count": 1933,
   "metadata": {},
   "outputs": [
    {
     "data": {
      "text/html": [
       "<div>\n",
       "<style>\n",
       "    .dataframe thead tr:only-child th {\n",
       "        text-align: right;\n",
       "    }\n",
       "\n",
       "    .dataframe thead th {\n",
       "        text-align: left;\n",
       "    }\n",
       "\n",
       "    .dataframe tbody tr th {\n",
       "        vertical-align: top;\n",
       "    }\n",
       "</style>\n",
       "<table border=\"1\" class=\"dataframe\">\n",
       "  <thead>\n",
       "    <tr style=\"text-align: right;\">\n",
       "      <th></th>\n",
       "      <th>Provincia</th>\n",
       "      <th>P-t</th>\n",
       "    </tr>\n",
       "  </thead>\n",
       "  <tbody>\n",
       "    <tr>\n",
       "      <th>0</th>\n",
       "      <td>España</td>\n",
       "      <td>687103</td>\n",
       "    </tr>\n",
       "  </tbody>\n",
       "</table>\n",
       "</div>"
      ],
      "text/plain": [
       "  Provincia     P-t\n",
       "0    España  687103"
      ]
     },
     "execution_count": 1933,
     "metadata": {},
     "output_type": "execute_result"
    }
   ],
   "source": [
    "total = pd.DataFrame(pd.DataFrame(data.sum()).transpose())\n",
    "total.Provincia = 'España'\n",
    "total.INE = 0\n",
    "total.drop('INE',axis = 1, inplace=True)\n",
    "total"
   ]
  },
  {
   "cell_type": "code",
   "execution_count": 1934,
   "metadata": {
    "collapsed": true
   },
   "outputs": [],
   "source": [
    "try:\n",
    "    dataCanarias = pd.DataFrame(dataCanarias.sum()).transpose()\n",
    "except:\n",
    "    print('No datos canarias')"
   ]
  },
  {
   "cell_type": "code",
   "execution_count": 1935,
   "metadata": {
    "collapsed": true
   },
   "outputs": [],
   "source": [
    "dataCanarias.Provincia = 'Canarias'"
   ]
  },
  {
   "cell_type": "code",
   "execution_count": 1936,
   "metadata": {
    "collapsed": true
   },
   "outputs": [],
   "source": [
    "total = total.append(dataCanarias)"
   ]
  },
  {
   "cell_type": "code",
   "execution_count": 1937,
   "metadata": {
    "collapsed": true
   },
   "outputs": [],
   "source": [
    "total.set_index('Provincia',inplace=True)"
   ]
  },
  {
   "cell_type": "code",
   "execution_count": 1938,
   "metadata": {},
   "outputs": [
    {
     "data": {
      "text/html": [
       "<div>\n",
       "<style>\n",
       "    .dataframe thead tr:only-child th {\n",
       "        text-align: right;\n",
       "    }\n",
       "\n",
       "    .dataframe thead th {\n",
       "        text-align: left;\n",
       "    }\n",
       "\n",
       "    .dataframe tbody tr th {\n",
       "        vertical-align: top;\n",
       "    }\n",
       "</style>\n",
       "<table border=\"1\" class=\"dataframe\">\n",
       "  <thead>\n",
       "    <tr style=\"text-align: right;\">\n",
       "      <th></th>\n",
       "      <th>P-t</th>\n",
       "    </tr>\n",
       "    <tr>\n",
       "      <th>Provincia</th>\n",
       "      <th></th>\n",
       "    </tr>\n",
       "  </thead>\n",
       "  <tbody>\n",
       "    <tr>\n",
       "      <th>España</th>\n",
       "      <td>687103</td>\n",
       "    </tr>\n",
       "    <tr>\n",
       "      <th>Canarias</th>\n",
       "      <td>4953</td>\n",
       "    </tr>\n",
       "  </tbody>\n",
       "</table>\n",
       "</div>"
      ],
      "text/plain": [
       "              P-t\n",
       "Provincia        \n",
       "España     687103\n",
       "Canarias     4953"
      ]
     },
     "execution_count": 1938,
     "metadata": {},
     "output_type": "execute_result"
    }
   ],
   "source": [
    "total.head()"
   ]
  },
  {
   "cell_type": "code",
   "execution_count": 1939,
   "metadata": {
    "collapsed": true
   },
   "outputs": [],
   "source": [
    "total.to_csv(pwd+productPATH+tipo+'total.csv', encoding='utf-8')"
   ]
  },
  {
   "cell_type": "code",
   "execution_count": 1940,
   "metadata": {
    "collapsed": true
   },
   "outputs": [],
   "source": [
    "#dataMelt = pd.melt(data, id_vars='Provincia', value_vars=['S-ha_15/12-15/4','P-t_15/12-15/4','S-ha_15/4-15/6','P-t_15/4-15/6','S-ha_15/6-15/9','P-t_15/6-15/9','S-ha_15/9-15/1','P-t_15/9-15/1'])"
   ]
  },
  {
   "cell_type": "code",
   "execution_count": 1895,
   "metadata": {
    "collapsed": true
   },
   "outputs": [],
   "source": [
    "#dataMelt['Unit'] = dataMelt['variable']\n",
    "#dataMelt['Unit'] = dataMelt['Unit'].apply(lambda x: x.split('_')[0])\n",
    "#dataMelt['variable'] = dataMelt['variable'].apply(lambda x: x.split('_')[1])"
   ]
  },
  {
   "cell_type": "code",
   "execution_count": 1804,
   "metadata": {
    "collapsed": true
   },
   "outputs": [],
   "source": [
    "#dataMelt.columns =['Provincia', 'Variable', 'Cantidad', 'Unit']"
   ]
  },
  {
   "cell_type": "code",
   "execution_count": 173,
   "metadata": {
    "collapsed": true
   },
   "outputs": [],
   "source": [
    "#dataMelt['nonumeric'] = dataMelt.Cantidad.apply(lambda x: isinstance(x, int))"
   ]
  },
  {
   "cell_type": "code",
   "execution_count": 174,
   "metadata": {
    "collapsed": true
   },
   "outputs": [],
   "source": [
    "#dataMelt = dataMelt.loc[dataMelt.nonumeric == True]"
   ]
  },
  {
   "cell_type": "code",
   "execution_count": null,
   "metadata": {
    "collapsed": true
   },
   "outputs": [],
   "source": [
    "#dataMelt.drop('nonumeric', axis=1, inplace=True)"
   ]
  },
  {
   "cell_type": "code",
   "execution_count": null,
   "metadata": {
    "collapsed": true
   },
   "outputs": [],
   "source": [
    "#dataMelt.to_csv(product+'_production_ready_melt.csv', encoding='utf-8')"
   ]
  },
  {
   "cell_type": "code",
   "execution_count": null,
   "metadata": {
    "collapsed": true
   },
   "outputs": [],
   "source": [
    "#dataMelt['Cantidad'] = dataMelt['Cantidad'].astype('int')*1000.0"
   ]
  },
  {
   "cell_type": "code",
   "execution_count": null,
   "metadata": {
    "collapsed": true
   },
   "outputs": [],
   "source": [
    "#dataMelt.pivot_table(index='Variable', values='Cantidad', aggfunc='sum').Cantidad.plot('bar')"
   ]
  },
  {
   "cell_type": "code",
   "execution_count": null,
   "metadata": {
    "collapsed": true
   },
   "outputs": [],
   "source": [
    "#dataMelt.info()"
   ]
  },
  {
   "cell_type": "code",
   "execution_count": null,
   "metadata": {
    "collapsed": true
   },
   "outputs": [],
   "source": []
  },
  {
   "cell_type": "code",
   "execution_count": null,
   "metadata": {
    "collapsed": true
   },
   "outputs": [],
   "source": []
  },
  {
   "cell_type": "code",
   "execution_count": null,
   "metadata": {
    "collapsed": true
   },
   "outputs": [],
   "source": []
  }
 ],
 "metadata": {
  "kernelspec": {
   "display_name": "Python [default]",
   "language": "python",
   "name": "python3"
  },
  "language_info": {
   "codemirror_mode": {
    "name": "ipython",
    "version": 3
   },
   "file_extension": ".py",
   "mimetype": "text/x-python",
   "name": "python",
   "nbconvert_exporter": "python",
   "pygments_lexer": "ipython3",
   "version": "3.5.3"
  }
 },
 "nbformat": 4,
 "nbformat_minor": 2
}
