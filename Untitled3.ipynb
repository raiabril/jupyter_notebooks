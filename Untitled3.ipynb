{
 "cells": [
  {
   "cell_type": "code",
   "execution_count": 17,
   "metadata": {},
   "outputs": [],
   "source": [
    "import os\n",
    "import pandas as pd"
   ]
  },
  {
   "cell_type": "code",
   "execution_count": 18,
   "metadata": {
    "collapsed": true
   },
   "outputs": [],
   "source": [
    "os.chdir('/Volumes/Macintosh HD/_Drive/Journey-of-food/data/')"
   ]
  },
  {
   "cell_type": "code",
   "execution_count": 19,
   "metadata": {},
   "outputs": [
    {
     "data": {
      "text/plain": [
       "['.DS_Store',\n",
       " '2012.csv',\n",
       " '2012B.csv',\n",
       " '2013.csv',\n",
       " '2014.csv',\n",
       " '2015.csv',\n",
       " '2016-1er sem.csv',\n",
       " '2016.csv',\n",
       " '2017-1er sem.csv',\n",
       " 'ConsumoMensual17.pdf',\n",
       " 'cuaderno_junio2017_tcm7-464609.xls',\n",
       " 'Export',\n",
       " 'extract.py',\n",
       " 'FH_EPRODMESK.xlsx',\n",
       " 'FH_EPRODPAISK.xlsx',\n",
       " 'FH_EPROVPRODK.xlsx',\n",
       " 'FH_IPRODMESK.xlsx',\n",
       " 'FH_IPRODPAIK.xlsx',\n",
       " 'Hoja1.csv',\n",
       " 'Icon\\r',\n",
       " 'ready']"
      ]
     },
     "execution_count": 19,
     "metadata": {},
     "output_type": "execute_result"
    }
   ],
   "source": [
    "files = os.listdir()\n",
    "files"
   ]
  },
  {
   "cell_type": "code",
   "execution_count": 25,
   "metadata": {},
   "outputs": [],
   "source": [
    "file = pd.read_excel('cuaderno_junio2017_tcm7-464609.xls', header=5, sheetname='pat20ana')"
   ]
  },
  {
   "cell_type": "code",
   "execution_count": 26,
   "metadata": {},
   "outputs": [
    {
     "data": {
      "text/plain": [
       "Index([     'CC-AA', 'Unnamed: 1',         2015,         2016,         2017,\n",
       "           '2017.1', 'Unnamed: 6',     '2015.1',     '2016.1',     '2017.2',\n",
       "           '2017.3'],\n",
       "      dtype='object')"
      ]
     },
     "execution_count": 26,
     "metadata": {},
     "output_type": "execute_result"
    }
   ],
   "source": [
    "file.columns"
   ]
  },
  {
   "cell_type": "code",
   "execution_count": null,
   "metadata": {
    "collapsed": true
   },
   "outputs": [],
   "source": []
  },
  {
   "cell_type": "code",
   "execution_count": null,
   "metadata": {
    "collapsed": true
   },
   "outputs": [],
   "source": []
  }
 ],
 "metadata": {
  "kernelspec": {
   "display_name": "Python [default]",
   "language": "python",
   "name": "python3"
  },
  "language_info": {
   "codemirror_mode": {
    "name": "ipython",
    "version": 3
   },
   "file_extension": ".py",
   "mimetype": "text/x-python",
   "name": "python",
   "nbconvert_exporter": "python",
   "pygments_lexer": "ipython3",
   "version": "3.5.3"
  }
 },
 "nbformat": 4,
 "nbformat_minor": 2
}
